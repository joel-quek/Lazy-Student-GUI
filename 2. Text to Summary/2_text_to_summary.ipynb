{
 "cells": [
  {
   "attachments": {},
   "cell_type": "markdown",
   "metadata": {},
   "source": [
    "# Text To Summary"
   ]
  },
  {
   "attachments": {},
   "cell_type": "markdown",
   "metadata": {},
   "source": [
    "Source: https://www.youtube.com/watch?v=TsfLm5iiYb4\n",
    "\n",
    "Title: AI Text Summarization with Hugging Face Transformers in 4 Lines of Python\n"
   ]
  },
  {
   "attachments": {},
   "cell_type": "markdown",
   "metadata": {},
   "source": [
    "## 0. Install Transformers and Import Dependencies"
   ]
  },
  {
   "cell_type": "code",
   "execution_count": 1,
   "metadata": {},
   "outputs": [],
   "source": [
    "import sys"
   ]
  },
  {
   "cell_type": "code",
   "execution_count": 5,
   "metadata": {},
   "outputs": [
    {
     "name": "stdout",
     "output_type": "stream",
     "text": [
      "Requirement already satisfied: transformers in c:\\users\\redoc\\appdata\\local\\programs\\python\\python310\\lib\\site-packages (2.2.2)\n",
      "Requirement already satisfied: sacremoses in c:\\users\\redoc\\appdata\\local\\programs\\python\\python310\\lib\\site-packages (from transformers) (0.0.53)\n",
      "Requirement already satisfied: tqdm in c:\\users\\redoc\\appdata\\local\\programs\\python\\python310\\lib\\site-packages (from transformers) (4.64.1)\n",
      "Requirement already satisfied: numpy in c:\\users\\redoc\\appdata\\local\\programs\\python\\python310\\lib\\site-packages (from transformers) (1.23.1)\n",
      "Requirement already satisfied: boto3 in c:\\users\\redoc\\appdata\\local\\programs\\python\\python310\\lib\\site-packages (from transformers) (1.26.27)\n",
      "Requirement already satisfied: regex in c:\\users\\redoc\\appdata\\local\\programs\\python\\python310\\lib\\site-packages (from transformers) (2022.9.13)\n",
      "Requirement already satisfied: sentencepiece in c:\\users\\redoc\\appdata\\local\\programs\\python\\python310\\lib\\site-packages (from transformers) (0.1.97)\n",
      "Requirement already satisfied: requests in c:\\users\\redoc\\appdata\\local\\programs\\python\\python310\\lib\\site-packages (from transformers) (2.28.1)\n",
      "Requirement already satisfied: botocore<1.30.0,>=1.29.27 in c:\\users\\redoc\\appdata\\local\\programs\\python\\python310\\lib\\site-packages (from boto3->transformers) (1.29.27)\n",
      "Requirement already satisfied: s3transfer<0.7.0,>=0.6.0 in c:\\users\\redoc\\appdata\\local\\programs\\python\\python310\\lib\\site-packages (from boto3->transformers) (0.6.0)\n",
      "Requirement already satisfied: jmespath<2.0.0,>=0.7.1 in c:\\users\\redoc\\appdata\\local\\programs\\python\\python310\\lib\\site-packages (from boto3->transformers) (1.0.1)\n",
      "Requirement already satisfied: certifi>=2017.4.17 in c:\\users\\redoc\\appdata\\local\\programs\\python\\python310\\lib\\site-packages (from requests->transformers) (2022.9.24)\n",
      "Requirement already satisfied: urllib3<1.27,>=1.21.1 in c:\\users\\redoc\\appdata\\local\\programs\\python\\python310\\lib\\site-packages (from requests->transformers) (1.26.12)\n",
      "Requirement already satisfied: charset-normalizer<3,>=2 in c:\\users\\redoc\\appdata\\local\\programs\\python\\python310\\lib\\site-packages (from requests->transformers) (2.1.1)\n",
      "Requirement already satisfied: idna<4,>=2.5 in c:\\users\\redoc\\appdata\\local\\programs\\python\\python310\\lib\\site-packages (from requests->transformers) (3.4)\n",
      "Requirement already satisfied: six in c:\\users\\redoc\\appdata\\local\\programs\\python\\python310\\lib\\site-packages (from sacremoses->transformers) (1.16.0)\n",
      "Requirement already satisfied: click in c:\\users\\redoc\\appdata\\local\\programs\\python\\python310\\lib\\site-packages (from sacremoses->transformers) (8.1.3)\n",
      "Requirement already satisfied: joblib in c:\\users\\redoc\\appdata\\local\\programs\\python\\python310\\lib\\site-packages (from sacremoses->transformers) (1.2.0)\n",
      "Requirement already satisfied: colorama in c:\\users\\redoc\\appdata\\local\\programs\\python\\python310\\lib\\site-packages (from tqdm->transformers) (0.4.5)\n",
      "Requirement already satisfied: python-dateutil<3.0.0,>=2.1 in c:\\users\\redoc\\appdata\\local\\programs\\python\\python310\\lib\\site-packages (from botocore<1.30.0,>=1.29.27->boto3->transformers) (2.8.0)\n"
     ]
    }
   ],
   "source": [
    "!{sys.executable} -m pip install transformers"
   ]
  },
  {
   "cell_type": "code",
   "execution_count": 2,
   "metadata": {},
   "outputs": [
    {
     "name": "stdout",
     "output_type": "stream",
     "text": [
      "Collecting tensorflow\n",
      "  Using cached tensorflow-2.11.0-cp310-cp310-win_amd64.whl (1.9 kB)\n",
      "Collecting tensorflow-intel==2.11.0\n",
      "  Using cached tensorflow_intel-2.11.0-cp310-cp310-win_amd64.whl (266.3 MB)\n",
      "Requirement already satisfied: numpy>=1.20 in c:\\users\\redoc\\appdata\\local\\programs\\python\\python310\\lib\\site-packages (from tensorflow-intel==2.11.0->tensorflow) (1.23.1)\n",
      "Requirement already satisfied: absl-py>=1.0.0 in c:\\users\\redoc\\appdata\\local\\programs\\python\\python310\\lib\\site-packages (from tensorflow-intel==2.11.0->tensorflow) (1.3.0)\n",
      "Requirement already satisfied: google-pasta>=0.1.1 in c:\\users\\redoc\\appdata\\local\\programs\\python\\python310\\lib\\site-packages (from tensorflow-intel==2.11.0->tensorflow) (0.2.0)\n",
      "Requirement already satisfied: libclang>=13.0.0 in c:\\users\\redoc\\appdata\\local\\programs\\python\\python310\\lib\\site-packages (from tensorflow-intel==2.11.0->tensorflow) (14.0.6)\n",
      "Requirement already satisfied: protobuf<3.20,>=3.9.2 in c:\\users\\redoc\\appdata\\local\\programs\\python\\python310\\lib\\site-packages (from tensorflow-intel==2.11.0->tensorflow) (3.19.6)\n",
      "Requirement already satisfied: gast<=0.4.0,>=0.2.1 in c:\\users\\redoc\\appdata\\local\\programs\\python\\python310\\lib\\site-packages (from tensorflow-intel==2.11.0->tensorflow) (0.4.0)\n",
      "Requirement already satisfied: h5py>=2.9.0 in c:\\users\\redoc\\appdata\\local\\programs\\python\\python310\\lib\\site-packages (from tensorflow-intel==2.11.0->tensorflow) (3.7.0)\n",
      "Requirement already satisfied: tensorflow-io-gcs-filesystem>=0.23.1 in c:\\users\\redoc\\appdata\\local\\programs\\python\\python310\\lib\\site-packages (from tensorflow-intel==2.11.0->tensorflow) (0.28.0)\n",
      "Requirement already satisfied: grpcio<2.0,>=1.24.3 in c:\\users\\redoc\\appdata\\local\\programs\\python\\python310\\lib\\site-packages (from tensorflow-intel==2.11.0->tensorflow) (1.51.1)\n",
      "Requirement already satisfied: packaging in c:\\users\\redoc\\appdata\\local\\programs\\python\\python310\\lib\\site-packages (from tensorflow-intel==2.11.0->tensorflow) (21.3)\n",
      "Requirement already satisfied: flatbuffers>=2.0 in c:\\users\\redoc\\appdata\\local\\programs\\python\\python310\\lib\\site-packages (from tensorflow-intel==2.11.0->tensorflow) (22.12.6)\n",
      "Requirement already satisfied: tensorflow-estimator<2.12,>=2.11.0 in c:\\users\\redoc\\appdata\\local\\programs\\python\\python310\\lib\\site-packages (from tensorflow-intel==2.11.0->tensorflow) (2.11.0)\n",
      "Requirement already satisfied: astunparse>=1.6.0 in c:\\users\\redoc\\appdata\\local\\programs\\python\\python310\\lib\\site-packages (from tensorflow-intel==2.11.0->tensorflow) (1.6.3)\n",
      "Requirement already satisfied: setuptools in c:\\users\\redoc\\appdata\\local\\programs\\python\\python310\\lib\\site-packages (from tensorflow-intel==2.11.0->tensorflow) (58.1.0)\n",
      "Requirement already satisfied: opt-einsum>=2.3.2 in c:\\users\\redoc\\appdata\\local\\programs\\python\\python310\\lib\\site-packages (from tensorflow-intel==2.11.0->tensorflow) (3.3.0)\n",
      "Requirement already satisfied: tensorboard<2.12,>=2.11 in c:\\users\\redoc\\appdata\\local\\programs\\python\\python310\\lib\\site-packages (from tensorflow-intel==2.11.0->tensorflow) (2.11.0)\n",
      "Requirement already satisfied: termcolor>=1.1.0 in c:\\users\\redoc\\appdata\\local\\programs\\python\\python310\\lib\\site-packages (from tensorflow-intel==2.11.0->tensorflow) (2.1.1)\n",
      "Requirement already satisfied: keras<2.12,>=2.11.0 in c:\\users\\redoc\\appdata\\local\\programs\\python\\python310\\lib\\site-packages (from tensorflow-intel==2.11.0->tensorflow) (2.11.0)\n",
      "Requirement already satisfied: typing-extensions>=3.6.6 in c:\\users\\redoc\\appdata\\local\\programs\\python\\python310\\lib\\site-packages (from tensorflow-intel==2.11.0->tensorflow) (4.3.0)\n",
      "Requirement already satisfied: wrapt>=1.11.0 in c:\\users\\redoc\\appdata\\local\\programs\\python\\python310\\lib\\site-packages (from tensorflow-intel==2.11.0->tensorflow) (1.14.1)\n",
      "Requirement already satisfied: six>=1.12.0 in c:\\users\\redoc\\appdata\\local\\programs\\python\\python310\\lib\\site-packages (from tensorflow-intel==2.11.0->tensorflow) (1.16.0)\n",
      "Requirement already satisfied: wheel<1.0,>=0.23.0 in c:\\users\\redoc\\appdata\\local\\programs\\python\\python310\\lib\\site-packages (from astunparse>=1.6.0->tensorflow-intel==2.11.0->tensorflow) (0.38.4)\n",
      "Requirement already satisfied: markdown>=2.6.8 in c:\\users\\redoc\\appdata\\local\\programs\\python\\python310\\lib\\site-packages (from tensorboard<2.12,>=2.11->tensorflow-intel==2.11.0->tensorflow) (3.4.1)\n",
      "Requirement already satisfied: requests<3,>=2.21.0 in c:\\users\\redoc\\appdata\\local\\programs\\python\\python310\\lib\\site-packages (from tensorboard<2.12,>=2.11->tensorflow-intel==2.11.0->tensorflow) (2.28.1)\n",
      "Requirement already satisfied: google-auth<3,>=1.6.3 in c:\\users\\redoc\\appdata\\local\\programs\\python\\python310\\lib\\site-packages (from tensorboard<2.12,>=2.11->tensorflow-intel==2.11.0->tensorflow) (2.15.0)\n",
      "Requirement already satisfied: tensorboard-plugin-wit>=1.6.0 in c:\\users\\redoc\\appdata\\local\\programs\\python\\python310\\lib\\site-packages (from tensorboard<2.12,>=2.11->tensorflow-intel==2.11.0->tensorflow) (1.8.1)\n",
      "Requirement already satisfied: google-auth-oauthlib<0.5,>=0.4.1 in c:\\users\\redoc\\appdata\\local\\programs\\python\\python310\\lib\\site-packages (from tensorboard<2.12,>=2.11->tensorflow-intel==2.11.0->tensorflow) (0.4.6)\n",
      "Requirement already satisfied: werkzeug>=1.0.1 in c:\\users\\redoc\\appdata\\local\\programs\\python\\python310\\lib\\site-packages (from tensorboard<2.12,>=2.11->tensorflow-intel==2.11.0->tensorflow) (2.2.2)\n",
      "Requirement already satisfied: tensorboard-data-server<0.7.0,>=0.6.0 in c:\\users\\redoc\\appdata\\local\\programs\\python\\python310\\lib\\site-packages (from tensorboard<2.12,>=2.11->tensorflow-intel==2.11.0->tensorflow) (0.6.1)\n",
      "Requirement already satisfied: pyparsing!=3.0.5,>=2.0.2 in c:\\users\\redoc\\appdata\\local\\programs\\python\\python310\\lib\\site-packages (from packaging->tensorflow-intel==2.11.0->tensorflow) (3.0.9)\n",
      "Requirement already satisfied: pyasn1-modules>=0.2.1 in c:\\users\\redoc\\appdata\\local\\programs\\python\\python310\\lib\\site-packages (from google-auth<3,>=1.6.3->tensorboard<2.12,>=2.11->tensorflow-intel==2.11.0->tensorflow) (0.2.8)\n",
      "Requirement already satisfied: rsa<5,>=3.1.4 in c:\\users\\redoc\\appdata\\local\\programs\\python\\python310\\lib\\site-packages (from google-auth<3,>=1.6.3->tensorboard<2.12,>=2.11->tensorflow-intel==2.11.0->tensorflow) (4.9)\n",
      "Requirement already satisfied: cachetools<6.0,>=2.0.0 in c:\\users\\redoc\\appdata\\local\\programs\\python\\python310\\lib\\site-packages (from google-auth<3,>=1.6.3->tensorboard<2.12,>=2.11->tensorflow-intel==2.11.0->tensorflow) (5.2.0)\n",
      "Requirement already satisfied: requests-oauthlib>=0.7.0 in c:\\users\\redoc\\appdata\\local\\programs\\python\\python310\\lib\\site-packages (from google-auth-oauthlib<0.5,>=0.4.1->tensorboard<2.12,>=2.11->tensorflow-intel==2.11.0->tensorflow) (1.3.1)\n",
      "Requirement already satisfied: certifi>=2017.4.17 in c:\\users\\redoc\\appdata\\local\\programs\\python\\python310\\lib\\site-packages (from requests<3,>=2.21.0->tensorboard<2.12,>=2.11->tensorflow-intel==2.11.0->tensorflow) (2022.9.24)\n",
      "Requirement already satisfied: urllib3<1.27,>=1.21.1 in c:\\users\\redoc\\appdata\\local\\programs\\python\\python310\\lib\\site-packages (from requests<3,>=2.21.0->tensorboard<2.12,>=2.11->tensorflow-intel==2.11.0->tensorflow) (1.26.12)\n",
      "Requirement already satisfied: idna<4,>=2.5 in c:\\users\\redoc\\appdata\\local\\programs\\python\\python310\\lib\\site-packages (from requests<3,>=2.21.0->tensorboard<2.12,>=2.11->tensorflow-intel==2.11.0->tensorflow) (3.4)\n",
      "Requirement already satisfied: charset-normalizer<3,>=2 in c:\\users\\redoc\\appdata\\local\\programs\\python\\python310\\lib\\site-packages (from requests<3,>=2.21.0->tensorboard<2.12,>=2.11->tensorflow-intel==2.11.0->tensorflow) (2.1.1)\n",
      "Requirement already satisfied: MarkupSafe>=2.1.1 in c:\\users\\redoc\\appdata\\local\\programs\\python\\python310\\lib\\site-packages (from werkzeug>=1.0.1->tensorboard<2.12,>=2.11->tensorflow-intel==2.11.0->tensorflow) (2.1.1)\n",
      "Requirement already satisfied: pyasn1<0.5.0,>=0.4.6 in c:\\users\\redoc\\appdata\\local\\programs\\python\\python310\\lib\\site-packages (from pyasn1-modules>=0.2.1->google-auth<3,>=1.6.3->tensorboard<2.12,>=2.11->tensorflow-intel==2.11.0->tensorflow) (0.4.8)\n",
      "Requirement already satisfied: oauthlib>=3.0.0 in c:\\users\\redoc\\appdata\\local\\programs\\python\\python310\\lib\\site-packages (from requests-oauthlib>=0.7.0->google-auth-oauthlib<0.5,>=0.4.1->tensorboard<2.12,>=2.11->tensorflow-intel==2.11.0->tensorflow) (3.2.2)\n",
      "Installing collected packages: tensorflow-intel, tensorflow\n",
      "Successfully installed tensorflow-2.11.0 tensorflow-intel-2.11.0\n"
     ]
    }
   ],
   "source": [
    "!{sys.executable} -m pip install tensorflow"
   ]
  },
  {
   "cell_type": "code",
   "execution_count": 3,
   "metadata": {},
   "outputs": [],
   "source": [
    "import tensorflow"
   ]
  },
  {
   "cell_type": "code",
   "execution_count": 4,
   "metadata": {},
   "outputs": [],
   "source": [
    "import transformers"
   ]
  },
  {
   "attachments": {},
   "cell_type": "markdown",
   "metadata": {},
   "source": [
    "### I CANT IMPORT PIPELINE"
   ]
  },
  {
   "cell_type": "code",
   "execution_count": 7,
   "metadata": {},
   "outputs": [
    {
     "ename": "ImportError",
     "evalue": "cannot import name 'pipeline' from 'transformers' (c:\\Users\\redoc\\AppData\\Local\\Programs\\Python\\Python310\\lib\\site-packages\\transformers\\__init__.py)",
     "output_type": "error",
     "traceback": [
      "\u001b[1;31m---------------------------------------------------------------------------\u001b[0m",
      "\u001b[1;31mImportError\u001b[0m                               Traceback (most recent call last)",
      "\u001b[1;32mc:\\Users\\redoc\\OneDrive\\Desktop\\DSI-Roughpaper\\0. The_Lazy_Student\\2. Text to Summary\\2_text_to_summary.ipynb Cell 9\u001b[0m in \u001b[0;36m<cell line: 1>\u001b[1;34m()\u001b[0m\n\u001b[1;32m----> <a href='vscode-notebook-cell:/c%3A/Users/redoc/OneDrive/Desktop/DSI-Roughpaper/0.%20The_Lazy_Student/2.%20Text%20to%20Summary/2_text_to_summary.ipynb#X11sZmlsZQ%3D%3D?line=0'>1</a>\u001b[0m \u001b[39mfrom\u001b[39;00m \u001b[39mtransformers\u001b[39;00m \u001b[39mimport\u001b[39;00m pipeline\n",
      "\u001b[1;31mImportError\u001b[0m: cannot import name 'pipeline' from 'transformers' (c:\\Users\\redoc\\AppData\\Local\\Programs\\Python\\Python310\\lib\\site-packages\\transformers\\__init__.py)"
     ]
    }
   ],
   "source": [
    "from transformers import pipeline"
   ]
  },
  {
   "attachments": {},
   "cell_type": "markdown",
   "metadata": {},
   "source": [
    "## 1. Load Summarization Pipeline"
   ]
  },
  {
   "cell_type": "code",
   "execution_count": null,
   "metadata": {},
   "outputs": [],
   "source": [
    "summarizer = pipeline('summarization')"
   ]
  },
  {
   "attachments": {},
   "cell_type": "markdown",
   "metadata": {},
   "source": [
    "## 2. Summarize Text"
   ]
  },
  {
   "cell_type": "code",
   "execution_count": 8,
   "metadata": {},
   "outputs": [],
   "source": [
    "with open('transcription.txt') as file:\n",
    "    lines = file.readlines()"
   ]
  },
  {
   "cell_type": "code",
   "execution_count": 10,
   "metadata": {},
   "outputs": [
    {
     "data": {
      "text/plain": [
       "\" Hey, what's up coders? Welcome to one little coder. The best speech to text in Python in 2022, I would say is open AI whisper. In less than three lines of Python code, you could have state of the art, machine learning, state of the art, deep learning model that can do ASR, automatic speech recognition or speech to text. In this video, I'm going to show you how you can have state of the art speech to text using Python in 2022. And let's get started. The first thing is this Google call up notebook will be in the YouTube description. All you have to do is expand the YouTube description, see the Google call up notebook, click open it and then you'll get to go. But if not, then if you're going to create your own Google call up notebook, just make sure that you're running GPU. There are two ways to make sure that you're running GPU. One click runtime and then click change runtime and you can see GPU accelerator. If not, run the first line NVIDIA SMI that will give you the configuration of the GPU that you're running. Currently, I've got a Tesla T4 which is most likely what you would get if you're running on Google call up. Otherwise, you also you can check the RAM memory offered where I've got a 16-github. So we're going to see how to use open AI whisper to do speech to text in Python. The first step is for us to make installation of the library. It's just one line of code, pip install, git place and directly the git repository and I'm installing it in quiet mode. At this point, we have successfully installed the library whisper that will help us do speech to text. Once we have the library installed, which is whisper, then we have to load the library and then we have to also load the model. So we have to load the library and we have to load the model. So import whisper will import whisper library and then whisper to load underscore model, then you can specify the model here. Now, what is the model that you want to specify? And that is quite something that it depends upon what you want to do. So this is the model called you can see there is like five different types of model. Tiny, base, small, medium, large and you can also see each of these models, how many parameters they have got. If you are not familiar with deep learning models, the larger the number of size of parameters that you have got, the better or more accurate that these models would be. So you can see 39 million parameters, 74 million parameters for base, 244 million parameters for small, 769 million parameters of a medium, 1.5 billion parameters for the large model. And you can also see that they have got specifically, they have got special English only model in case if you want English only or if you want multi-lingual model, you can have multi-lingual. So tiny.en will give you English only model, tiny alone will give you multi-lingual model, which means you can do speech to text for a lot of languages that they have described here in this chart. And what is the RAM, be RAM requirement if you are running it on Google, sorry if you're running it on GPU, you can see the approximately around 1GB for tiny model, it goes all the way up to 10 gig for the large model and 5 gig for the medium model. And you can also see the improvement in the speed that you would get the relative speed. So if large model is going to take 1x, then you can see how much the medium size model would take, how much the small size model would take, how much the base model would take and how much the tiny model would take. So the tiny model would have like 32% or sorry 32 times more efficiency in terms of the model speed, especially the inference speed compared to the large model. So based on what you want the accuracy or the speed, you can decide what model that you want to go with. Right now at this point, I'm going to pick the medium model. Also, it is quite important for you to understand what is the type of language that you're going to use and see the word error rate, WER, the word error rate for that particular type of the language and then make a call about which model that you want to pick. Because I'm going to do just English, I'm going to go ahead with medium, which is a 760, I think a 769 million parameter model. So load the medium model. If you want to load something else like tiny, you can just change the line here, tiny or base or whatever, you can change the line here. So at this point, it's going to download the model. You can see that the model is a 1.4 to gigabits model and the model is successfully downloaded into your Google Collapse session. Now we are ready to do speech to text and as you know, for any speech to text, you need an audio file or a speech file that you're going to convert into text. For that, I'm going to download the audio file from the internet. For that, I'm just simply using the bash command WGet and I'm outputting it in the file name audio.mp3 and then I'm specifying the file here. So this comes from this website and this is this is particularly from a movie called Batman Begin by Christopher Nolan and it is particularly downloading this particular statement that says criminals thrive on the indulgence of societies understanding. I mean, as a native English speaker, this is quite difficult for me to understand or transcribe. Let me play this audio for you. Okay, so the same audio is downloaded here using WGet and once you download it, you can actually see the audio here in the folder and the next thing that you can do is play the same thing just to make sure that it is downloaded. Okay, at this point, we are ready to go to start our speech to text transcription. So we are going to do speech to text transcription and all you have to do is model dot transcribe and then do audio dot MP3. So model dot transcribe audio dot MP3 will give you the result and you can print the particular result, the text of the result. While you are printing this, while the model is transcribing, you can also get to know what language is this and also finally you can print the text. So when I print this, like you can see how long it takes, I am transcribing it audio dot MP3 and then the result is printed English. Criminals thrive on the indulgence of societies understanding. Now, at this point, you can stop the video, go ahead, build your own speech to text project. But if you want to know how the model sizes would differ and then that can have an impact, let me show you a quick demo. What I am going to do is I am going to just run the same thing. But instead of using a media model, I am going to use a tiny model. I am going to call it model underscore tiny or I can just simply call it tiny. And after I have the tiny model, I am going to use the same audio. I am not going to do anything different. I am going to use the same audio using tiny dot transcribe and when I say tiny and you can see that you downloaded so fast because the model is very small. And when I say tiny dot transcribe, you can see criminals thrive on the contents of societies understanding. You can see how the language is different first. It didn't understand criminals properly. There is an apostrophe S and also on the indulgence of societies understanding. So instead of indulgence, it says condense. So these words where there is either the noise or when the voice drops, the volume goes down. The speaker is not quite clear. You can see how the smaller size model performs versus the larger size model. Let us take another example. So I am going to go pick another example from the same movie. So you look very fashionable apart from the mud. I am going to copy the path. I am going to copy the path here. Copy the audio path. Come back here and then I am going to do the same thing that I just did last time. Oops. Yep. Mud.mp3. When we downloaded, we are going to save it still in the same file name audio.mp3. It's played. Oops. Did it not download? Let me delete this file just to make sure that this is gone. Come back here. Run this once again. Just to make sure that we are downloading the right file and played. You look very fashionable. And you can see the difference. Right? The first person who spoke spoken American accent. Now the person who spoke the spoken British accent. And this is Michael Kane. If you do not know. So now we are going to do transcription for that. First, we are going to use the larger model. In this case, we are going to use the model that is medium model. So it says you look very fashionable apart from the mud. I really suppose to be apart from the mud, but it says apart from the mud. Let's see what a tiny model does. It says you look very fashionable. Oh, pretty much. So you can see the last word was like the only one letter was the mistake in the previous model. But here you can see. Oh, pretty much. So you can see the huge difference. I would like to do one final test before we close the video. So this is the one. Bats are nocturnal. Bats might be, but even for billion playboys, three o'clock is pushing it. So I'm going to copy this and copy the audio address. Come back to the Google collab. First, delete the file in case, you know, if it is going to create any problem. Come back here, paste it, run this. So this is going to download the file after it downloads. I'm going to play it. I think I have to run it. I'm sorry. That's my mistake. Okay. Let's do the transcription. Bats are not pernil instead of saying nocturnal. Bats maybe, but even a billionaires playboy three o'clock is pushing him. Let's run this. English. That's your knock journal. That's my bite. But even for a billionaire playboy where the clock is pushing me, you can see the difference in the quality of transcription even for English when you change different models. But the point here is not to pick on the models, but the point here is you always have to make this call the trade of between the size of the model, the performance in when I say performance, the speed of the model's inference and also the error rate. So it's a call that you have to make, but it's my duty for me to tell you how the tiny model is performing versus how the large model is performing for the same audio clip. But if you just consider the medium model, which is not the largest model, this is the 769, 769 million parameter model. But even this model is quite amazing. It is not just simply amazing for the US accent, but you also saw that it was doing a good job for the UK accent, which is a British accent. And I myself have tested Indian accent with that. And then it has done a really good job even for Indian accent English, which is not something that I usually see with Google Assistant or Alexa or Siri. They usually struggle with Indian accent until, you know, it's really customized for Indian market. But otherwise, I usually see them struggling. But even then, this complete, like the simple open source model, open AI whisper is doing really a great job. So in 2022, if you want to build a speech to text solution using Python, I think you should turn towards opening a whisper. It's completely open source. You can see all the details about, you know, what is the error rate for, sorry, what is the error rate for each language? Word error rate, W here. What does the difference between each model and what other things that you can do? For example, translation and multilingual translation and language detection and all those things. And this, this particular project is aimed at somebody who doesn't know how to do speech to text. And the point is, just literally like three lines of Python code, like if you literally see the code, you import, then you load the model and then you can just literally, you know, transcribe and print the result. So basically in three lines of Python, let me run this for you. So I'm going to say three, sorry, three lines of Python code for speech to text. Okay. So what am I going to do? I'm going to say import whisper cool. Then model is equal to whisper.load underscore model. And I can say medium here. And then model dot transcribe of audio dot MP3. And then while I'm doing that, I can print the text. And when I run this, it should oops, there is load model. I'm so sorry load model. And while I'm running this, you can see at the end of this step, it is going to actually print the transcription of the audio. So in literally three lines of Python code, you can have a cutting edge state of the art speech to text model, a speech to text project in Python. And that is quite quite quite amazing. And I think you should definitely check this out. And if you are a university student trying to do something in speech to text, this is quite multi-lingual. Even if you're not trying to do something for English, there are a lot, lot more languages. You can see all the languages here. So I come from India, all these Indian languages are there, which is quite not not common with other other language models. So I would strongly recommend you to check this out. Any question, let me know in the comment section. Otherwise, see you in the next video. Happy coding.\""
      ]
     },
     "execution_count": 10,
     "metadata": {},
     "output_type": "execute_result"
    }
   ],
   "source": [
    "lines[0]"
   ]
  },
  {
   "cell_type": "code",
   "execution_count": null,
   "metadata": {},
   "outputs": [],
   "source": [
    "summary_text = summarizer(lines, max_length=130, min_length=30, do_sample=False)"
   ]
  },
  {
   "cell_type": "code",
   "execution_count": null,
   "metadata": {},
   "outputs": [],
   "source": [
    "summary_text = summary_text[0]['summary_text']"
   ]
  },
  {
   "attachments": {},
   "cell_type": "markdown",
   "metadata": {},
   "source": [
    "## 3. Output Summary to Text File"
   ]
  },
  {
   "cell_type": "code",
   "execution_count": null,
   "metadata": {},
   "outputs": [],
   "source": [
    "text_file = open(\"summary.txt\", \"wt\")\n",
    "n = text_file.write(summary_text)\n",
    "text_file.close()"
   ]
  }
 ],
 "metadata": {
  "kernelspec": {
   "display_name": "Python 3",
   "language": "python",
   "name": "python3"
  },
  "language_info": {
   "codemirror_mode": {
    "name": "ipython",
    "version": 3
   },
   "file_extension": ".py",
   "mimetype": "text/x-python",
   "name": "python",
   "nbconvert_exporter": "python",
   "pygments_lexer": "ipython3",
   "version": "3.10.5"
  },
  "orig_nbformat": 4,
  "vscode": {
   "interpreter": {
    "hash": "f1131d84b9e97d700f196cec3f143c1c5ca4787d89ba01101505d30befb8a4c0"
   }
  }
 },
 "nbformat": 4,
 "nbformat_minor": 2
}
